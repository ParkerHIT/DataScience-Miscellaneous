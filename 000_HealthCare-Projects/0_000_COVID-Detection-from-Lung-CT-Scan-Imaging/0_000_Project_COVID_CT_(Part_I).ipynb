{
  "nbformat": 4,
  "nbformat_minor": 0,
  "metadata": {
    "colab": {
      "name": "Project COVID CT (Part I).ipynb",
      "provenance": []
    },
    "kernelspec": {
      "name": "python3",
      "display_name": "Python 3"
    },
    "language_info": {
      "name": "python"
    }
  },
  "cells": [
    {
      "cell_type": "code",
      "execution_count": null,
      "metadata": {
        "colab": {
          "base_uri": "https://localhost:8080/"
        },
        "id": "72y93foY1T5N",
        "outputId": "a92a9108-d71a-40de-deb6-89f8763e8dbb"
      },
      "outputs": [
        {
          "output_type": "stream",
          "name": "stdout",
          "text": [
            "Looking in indexes: https://pypi.org/simple, https://us-python.pkg.dev/colab-wheels/public/simple/\n",
            "Requirement already satisfied: split-folders in /usr/local/lib/python3.7/dist-packages (0.5.1)\n"
          ]
        }
      ],
      "source": [
        "!pip install split-folders\n"
      ]
    },
    {
      "cell_type": "code",
      "source": [
        "#import split-folders\n",
        "\n",
        "import splitfolders"
      ],
      "metadata": {
        "id": "kuxfayLa24Yl"
      },
      "execution_count": null,
      "outputs": []
    },
    {
      "cell_type": "code",
      "source": [
        "splitfolders.ratio(input = \"/content/drive/MyDrive/Project COVID-CT/data\",\n",
        "                   output = \"/content/drive/MyDrive/Project COVID-CT/output\", \n",
        "                   seed = 2021, \n",
        "                   ratio = (0.7,0.15,0.15))"
      ],
      "metadata": {
        "colab": {
          "base_uri": "https://localhost:8080/"
        },
        "id": "hpsVB74J2_Nm",
        "outputId": "9a823c68-5abc-43c5-ee2b-4f00eb8ab4eb"
      },
      "execution_count": null,
      "outputs": [
        {
          "output_type": "stream",
          "name": "stderr",
          "text": [
            "Copying files: 746 files [00:16, 45.02 files/s]\n"
          ]
        }
      ]
    }
  ]
}